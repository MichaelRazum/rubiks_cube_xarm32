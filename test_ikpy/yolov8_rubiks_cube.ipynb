{
 "cells": [
  {
   "cell_type": "code",
   "execution_count": null,
   "metadata": {},
   "outputs": [],
   "source": [
    "import sys\n",
    "import cv2\n",
    "import numpy as np\n",
    "import os\n",
    "import time\n",
    "import subprocess"
   ]
  },
  {
   "cell_type": "code",
   "execution_count": null,
   "metadata": {},
   "outputs": [],
   "source": [
    "def find_webcam_index(device_name):\n",
    "    command = \"v4l2-ctl --list-devices\"\n",
    "    output = subprocess.check_output(command, shell=True, text=True)\n",
    "    devices = output.split('\\n\\n')\n",
    "\n",
    "    for device in devices:\n",
    "        #print(device)\n",
    "        if device_name in device:\n",
    "            lines = device.split('\\n')\n",
    "            for line in lines:\n",
    "                if \"video\" in line:\n",
    "                    parts = line.split()\n",
    "                    for part in parts:\n",
    "                        if part.startswith('/dev/video'):\n",
    "                            print(part)\n",
    "                            return (part[10:])\n",
    "\n"
   ]
  },
  {
   "cell_type": "code",
   "execution_count": null,
   "metadata": {},
   "outputs": [],
   "source": [
    "import cv2\n",
    "import numpy as np\n",
    "from ultralytics import YOLO\n",
    "import sys\n",
    "# Initialize the YOLOv8 model\n",
    "model = YOLO('yolov8s.pt')  # Make sure to provide the correct path to your YOLOv8 model file\n",
    "cam_i = int(find_webcam_index(\"C922 Pro Stream Webcam\"))\n",
    "# Open a connection to the webcam (0 is the default camera)\n",
    "cap = cv2.VideoCapture(cam_i)\n",
    "\n",
    "if not cap.isOpened():\n",
    "    print(\"Error: Could not open video device.\")\n",
    "    sys.exit(1)\n",
    "\n",
    "# Set camera properties (optional)\n",
    "cap.set(cv2.CAP_PROP_FRAME_WIDTH, 640)\n",
    "cap.set(cv2.CAP_PROP_FRAME_HEIGHT, 480)\n",
    "\n",
    "while True:\n",
    "    # Capture frame-by-frame\n",
    "    ret, frame = cap.read()\n",
    "    if not ret:\n",
    "        print(\"Error: Could not read frame.\")\n",
    "        break\n",
    "\n",
    "    # Perform inference on the frame\n",
    "    results = model(frame)\n",
    "\n",
    "    # Process the results\n",
    "    for result in results:\n",
    "        boxes = result.boxes\n",
    "        for box in boxes:\n",
    "            # Extract box coordinates\n",
    "            x1, y1, x2, y2 = map(int, box.xyxy[0])\n",
    "            conf = box.conf[0]\n",
    "            cls = int(box.cls[0])\n",
    "\n",
    "            # Draw the bounding box and label on the frame\n",
    "            label = f\"{model.names[cls]} {conf:.2f}\"\n",
    "            cv2.rectangle(frame, (x1, y1), (x2, y2), (0, 255, 0), 2)\n",
    "            cv2.putText(frame, label, (x1, y1 - 10), cv2.FONT_HERSHEY_SIMPLEX, 0.5, (0, 255, 0), 2)\n",
    "\n",
    "    # Display the resulting frame\n",
    "    cv2.imshow('YOLOv8 Detection', frame)\n",
    "\n",
    "    # Break the loop on 'q' key press\n",
    "    if cv2.waitKey(1) & 0xFF == ord('q'):\n",
    "        break\n",
    "\n",
    "# When everything is done, release the capture and close windows\n",
    "cap.release()\n",
    "cv2.destroyAllWindows()"
   ]
  }
 ],
 "metadata": {
  "kernelspec": {
   "display_name": "Python 3",
   "language": "python",
   "name": "python3"
  },
  "language_info": {
   "name": "python",
   "version": "3.10.12"
  }
 },
 "nbformat": 4,
 "nbformat_minor": 2
}
