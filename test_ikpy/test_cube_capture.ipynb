{
 "cells": [
  {
   "cell_type": "code",
   "execution_count": 1,
   "metadata": {},
   "outputs": [],
   "source": [
    "import sys\n",
    "import cv2\n",
    "import numpy as np\n",
    "import os\n",
    "import time\n",
    "import subprocess\n"
   ]
  },
  {
   "cell_type": "code",
   "execution_count": 2,
   "metadata": {},
   "outputs": [],
   "source": [
    "def get_auto_index(dataset_dir='./video_out/', dataset_name_prefix = '', data_suffix = 'mp4'):\n",
    "    max_idx = 1000\n",
    "    if not os.path.isdir(dataset_dir):\n",
    "        os.makedirs(dataset_dir)\n",
    "    for i in range(max_idx+1):\n",
    "        if not os.path.isfile(os.path.join(dataset_dir, f'{dataset_name_prefix}cubepic_{i}.{data_suffix}')):\n",
    "            return i\n",
    "    raise Exception(f\"Error getting auto index, or more than {max_idx} episodes\")"
   ]
  },
  {
   "cell_type": "code",
   "execution_count": 3,
   "metadata": {},
   "outputs": [
    {
     "name": "stdout",
     "output_type": "stream",
     "text": [
      "/dev/video0\n"
     ]
    },
    {
     "data": {
      "text/plain": [
       "'0'"
      ]
     },
     "execution_count": 3,
     "metadata": {},
     "output_type": "execute_result"
    }
   ],
   "source": [
    "def find_webcam_index(device_name):\n",
    "    command = \"v4l2-ctl --list-devices\"\n",
    "    output = subprocess.check_output(command, shell=True, text=True)\n",
    "    devices = output.split('\\n\\n')\n",
    "\n",
    "    for device in devices:\n",
    "        #print(device)\n",
    "        if device_name in device:\n",
    "            lines = device.split('\\n')\n",
    "            for line in lines:\n",
    "                if \"video\" in line:\n",
    "                    parts = line.split()\n",
    "                    for part in parts:\n",
    "                        if part.startswith('/dev/video'):\n",
    "                            print(part)\n",
    "                            return (part[10:])\n",
    "\n",
    "find_webcam_index(\"C922 Pro Stream Webcam\")"
   ]
  },
  {
   "cell_type": "code",
   "execution_count": 4,
   "metadata": {},
   "outputs": [],
   "source": [
    "cam_in = cv2.VideoCapture(int(find_webcam_index(\"C922 Pro Stream Webcam\")))\n",
    "\n",
    "while True:\n",
    "    ret, frame = cam_in.read()\n",
    "    cv2.imshow(\"frame\", frame)\n",
    "    key = cv2.waitKey(1)\n",
    "    if key == ord(\"q\"):\n",
    "        \n",
    "        break\n",
    "    if key == ord(\"s\"):\n",
    "        i = get_auto_index(dataset_dir='./image_out/',data_suffix='jpg')\n",
    "        fname = './image_out/cubepic_'+str(i) + '.jpg'\n",
    "        cv2.imwrite(fname, frame)\n",
    "\n",
    "\n",
    "cam_in.release()\n",
    "cv2.destroyAllWindows()"
   ]
  },
  {
   "cell_type": "code",
   "execution_count": null,
   "metadata": {},
   "outputs": [],
   "source": []
  }
 ],
 "metadata": {
  "kernelspec": {
   "display_name": "Python 3",
   "language": "python",
   "name": "python3"
  },
  "language_info": {
   "codemirror_mode": {
    "name": "ipython",
    "version": 3
   },
   "file_extension": ".py",
   "mimetype": "text/x-python",
   "name": "python",
   "nbconvert_exporter": "python",
   "pygments_lexer": "ipython3",
   "version": "3.10.12"
  }
 },
 "nbformat": 4,
 "nbformat_minor": 2
}
